{
 "cells": [
  {
   "cell_type": "markdown",
   "metadata": {},
   "source": [
    "# Oscillators\n",
    "\n",
    "This example shows how to generate different signals using the Oscillator module. This module integrates basic structures  that implements a simple interface compatible with the [std::generate](https://en.cppreference.com/w/cpp/algorithm/generate) standard function.\n",
    "\n",
    " *eDSP* implements 4 different oscillators:\n",
    " \n",
    " - Square Signal\n",
    " - Triangular Signal\n",
    " - Sawtooth Signal\n",
    " - Sinusoidal Signal\n",
    "\n",
    "All of them are available by default in the `oscillators` folder."
   ]
  },
  {
   "cell_type": "markdown",
   "metadata": {},
   "source": [
    "## Square Signal\n",
    "\n",
    "The square wave can be constructed from straight line segments. The square waves contain a wide range of harmonics. It can be defined as simply the sign function of a sinusoid:\n",
    "\n",
    "$$ x(t) = {sgn}\\left(\\sin {\\frac {t}{T}}\\right)={sgn}\\left(\\sin ft\\right)$$\n",
    "\n",
    "which will be 1 when the sinusoid is positive, −1 when the sinusoid is negative, and 0 at the discontinuities. Here, T is the period of the square wave, or equivalently, f is its frequency, where f = 1/T.\n",
    "\n",
    "The class `square_oscillator` implements a basic square signal oscillator. In this example we generate a square signal with a period of 10KHz sampled at 42.1KHz:"
   ]
  },
  {
   "cell_type": "code",
   "execution_count": 1,
   "metadata": {},
   "outputs": [],
   "source": [
    "#include <edsp/oscillators/square.hpp>\n",
    "#include <vector>\n",
    "#include <algorithm>\n",
    "\n",
    "using namespace edsp;\n",
    "using namespace edsp::oscillators;\n",
    "\n",
    "\n",
    "constexpr auto amplitude = 1.;\n",
    "constexpr auto sample_rate = 42100.;\n",
    "constexpr auto frequency = 10000.;\n",
    "constexpr auto duration_secs = 4;\n",
    "constexpr auto samples = duration_secs * sample_rate; \n",
    "constexpr auto dutty = 0.5;\n",
    "\n",
    "std::vector<double> data(samples);\n",
    "auto square = square_oscillator<double>(amplitude, sample_rate, frequency, dutty);\n",
    "std::generate(data.begin(), data.end(), square);"
   ]
  },
  {
   "cell_type": "markdown",
   "metadata": {},
   "source": [
    "Now we are able to display the results, first of all we compute the values of the X axis:"
   ]
  },
  {
   "cell_type": "code",
   "execution_count": 2,
   "metadata": {},
   "outputs": [],
   "source": [
    "#include <edsp/algorithm/linspace.hpp>\n",
    "\n",
    "\n",
    "std::vector<double> x(samples);\n",
    "algorithm::linspace(x.begin(), 0, duration_secs, samples);"
   ]
  },
  {
   "cell_type": "markdown",
   "metadata": {},
   "source": [
    "Then we can display the final result:"
   ]
  },
  {
   "cell_type": "code",
   "execution_count": 3,
   "metadata": {},
   "outputs": [
    {
     "name": "stderr",
     "output_type": "stream",
     "text": [
      "\u001b[1minput_line_11:1:10: \u001b[0m\u001b[0;1;31mfatal error: \u001b[0m\u001b[1m'xplot/xfigure.hpp' file not found\u001b[0m\n",
      "#include <xplot/xfigure.hpp>\n",
      "\u001b[0;1;32m         ^~~~~~~~~~~~~~~~~~~\n",
      "\u001b[0m"
     ]
    },
    {
     "ename": "Interpreter Error",
     "evalue": "",
     "output_type": "error",
     "traceback": [
      "Interpreter Error: "
     ]
    }
   ],
   "source": [
    "#include <xplot/xfigure.hpp>\n",
    "#include <xplot/xmarks.hpp>\n",
    "#include <xplot/xaxes.hpp>\n",
    "\n",
    "xpl::linear_scale sx, sy;\n",
    "xpl::lines line(sx, sy);\n",
    "line.x = x;\n",
    "line.y = data;\n",
    "line.colors = std::vector<std::string>({\"red\"});\n",
    "\n",
    "xpl::figure fig;\n",
    "xpl::axis hx(sx), hy(sy);\n",
    "hy.orientation = \"vertical\";\n",
    "\n",
    "xpl::figure fig;\n",
    "fig.add_axis(hx);\n",
    "fig.add_axis(hy);\n",
    "fig.add_mark(line)\n"
   ]
  },
  {
   "cell_type": "markdown",
   "metadata": {},
   "source": [
    "## Sawtooth Signal\n",
    "\n",
    "A sawtooth waveform increases linearly from -1 to 1 in $ [0, 2  \\pi  wi] $ interval, and decreases linearly from 1 to\n",
    "-1 in the interval $ \\left[ 2  \\pi  w, 2  \\pi \\right] $, where $ w $ is the width of the periodic signal. \n",
    " If $ w $ is 0.5, the function generates a standard triangular wave. The triangle wave shares many geometric\n",
    "similarities with the sawtooth wave, except it has two sloping line segments.\n",
    "\n",
    "A more general form, and with period T, is:\n",
    "\n",
    "$$ {\\displaystyle 2\\left({\\frac {t}{T}}-\\left\\lfloor {\\frac {1}{2}}+{\\frac {t}{T}}\\right\\rfloor \\right)} $$\n",
    "\n",
    "\n",
    "The class `sawtooth_oscillator` implements a basic square signal oscillator. In this example we generate a square signal with a period of 10KHz sampled at 42.1KHz:"
   ]
  },
  {
   "cell_type": "code",
   "execution_count": null,
   "metadata": {},
   "outputs": [],
   "source": [
    "#include <edsp/oscillators/sawtooth.hpp>\n",
    "\n",
    "constexpr auto width = 0.5;\n",
    "auto sawtooth = sawtooth_oscillator<double>(amplitude, sample_rate, frequency, width);\n",
    "std::generate(data.begin(), data.end(), sawtooth);"
   ]
  },
  {
   "cell_type": "markdown",
   "metadata": {},
   "source": [
    "Then, to display:"
   ]
  },
  {
   "cell_type": "code",
   "execution_count": null,
   "metadata": {},
   "outputs": [],
   "source": [
    "line.x = x;\n",
    "line.y = data;\n",
    "fig"
   ]
  }
 ],
 "metadata": {
  "kernelspec": {
   "display_name": "C++17",
   "language": "C++17",
   "name": "xeus-cling-cpp17"
  },
  "language_info": {
   "codemirror_mode": "text/x-c++src",
   "file_extension": ".cpp",
   "mimetype": "text/x-c++src",
   "name": "c++",
   "version": "-std=c++17"
  }
 },
 "nbformat": 4,
 "nbformat_minor": 2
}
